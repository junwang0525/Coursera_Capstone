{
    "cells": [
        {
            "cell_type": "markdown",
            "metadata": {},
            "source": "# Capstone Project - The Battle of Neighborhoods"
        },
        {
            "cell_type": "markdown",
            "metadata": {
                "collapsed": true
            },
            "source": "## Introduction"
        },
        {
            "cell_type": "markdown",
            "metadata": {},
            "source": "###### Background\nLondon is the economic and political center of UK, and its land prices have always been high. Before Brexit earlier in this year, someone warned that if Brexit, the value houses in UK may fall and this will have an impact on the British market. Recently, the impact of coronavirus has also shocked the UK housing market, according to Global Property Consultancy, UK house prices would probably fall by 3% in 2020, and expects the prices to recover in 2021. In current scenario, it could be a new opportunity for business operators and investors."
        },
        {
            "cell_type": "markdown",
            "metadata": {},
            "source": "###### Problem\nThe land price directly affects the operating conditions of some commercial operators, that could be refleced through leasing or purchasing the land to operate, especially have more impacts on the catering industry. Usually, the rent costs accounts for a large portion of the expenditure. therefore, the choice of location and whether the operator could balance the the revenue and the cost are of vital importance.\n\nTo explore this issue, we will explore the components of venues in the Greater London area, the distribution of regional land prices, what venues are popular with the public, and recommend different business model based on the operator's own situation."
        },
        {
            "cell_type": "markdown",
            "metadata": {},
            "source": "## Data"
        },
        {
            "cell_type": "markdown",
            "metadata": {},
            "source": "The location that includes the postcoded and coordinates of Greater London area are extracted from www.doogal.co.uk, which collects and sort out UK postcodes as well as data from Land Registry data from GOV.UK, and this website has more clear and organized data provided to public.\n\nThe land value information comes from www.zoopla.co.uk is a property website, which is more reliable because it update housing market information on a monthly basis. This website provides API to obtain data, however the free version has a lot of restrictions, so the web crawler is used to get land value information.\n\nTo explore a given location, such as London in this case, the FourSquare API is used to get the most common venue categories in each postcode area, which are used to group postcode into clusers and build visualization."
        },
        {
            "cell_type": "code",
            "execution_count": null,
            "metadata": {},
            "outputs": [],
            "source": ""
        }
    ],
    "metadata": {
        "kernelspec": {
            "display_name": "Python 3.6",
            "language": "python",
            "name": "python3"
        },
        "language_info": {
            "codemirror_mode": {
                "name": "ipython",
                "version": 3
            },
            "file_extension": ".py",
            "mimetype": "text/x-python",
            "name": "python",
            "nbconvert_exporter": "python",
            "pygments_lexer": "ipython3",
            "version": "3.6.9"
        }
    },
    "nbformat": 4,
    "nbformat_minor": 1
}